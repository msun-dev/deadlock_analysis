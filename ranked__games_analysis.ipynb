{
  "nbformat": 4,
  "nbformat_minor": 0,
  "metadata": {
    "colab": {
      "provenance": [],
      "collapsed_sections": [
        "CFT8hicQYayy",
        "2t1cOVEIbcLJ",
        "I3QQWUHA294x"
      ],
      "authorship_tag": "ABX9TyM2/IdmLPgZpp05RU1Ky5hG",
      "include_colab_link": true
    },
    "kernelspec": {
      "name": "python3",
      "display_name": "Python 3"
    },
    "language_info": {
      "name": "python"
    }
  },
  "cells": [
    {
      "cell_type": "markdown",
      "metadata": {
        "id": "view-in-github",
        "colab_type": "text"
      },
      "source": [
        "<a href=\"https://colab.research.google.com/github/msun-dev/deadlock_analysis/blob/main/ranked__games_analysis.ipynb\" target=\"_parent\"><img src=\"https://colab.research.google.com/assets/colab-badge.svg\" alt=\"Open In Colab\"/></a>"
      ]
    },
    {
      "cell_type": "markdown",
      "source": [
        "# Show me the truth!"
      ],
      "metadata": {
        "id": "Z34HRMvrYqTy"
      }
    },
    {
      "cell_type": "markdown",
      "source": [
        "## Libraries import"
      ],
      "metadata": {
        "id": "Is5MRSnSo0AO"
      }
    },
    {
      "cell_type": "code",
      "execution_count": 2,
      "metadata": {
        "id": "lT8NiJDnowa4"
      },
      "outputs": [],
      "source": [
        "import requests  # alma mater\n",
        "import json      # JSON\n",
        "import time      # Delaying requests\n",
        "import random    # Who doesnt like RNG?"
      ]
    },
    {
      "cell_type": "markdown",
      "source": [
        "## Variables"
      ],
      "metadata": {
        "id": "4YOiYzCxpFRe"
      }
    },
    {
      "cell_type": "markdown",
      "source": [
        "### User-defined variables"
      ],
      "metadata": {
        "id": "2odWxevzZEuS"
      }
    },
    {
      "cell_type": "code",
      "source": [
        "account_id = 863727003 # @param {type:\"number\", placeholder:\"Your Steam 3 ID. Use service like rep.tf.\"}\n",
        "request_delay_sec = 6.0 # @param {type:\"number\", placeholder:\"Use 6.0 without API key\"}"
      ],
      "metadata": {
        "id": "4hwe9xsAZKAx"
      },
      "execution_count": 15,
      "outputs": []
    },
    {
      "cell_type": "markdown",
      "source": [
        "### Constants"
      ],
      "metadata": {
        "id": "owggLJ4_ZCeE"
      }
    },
    {
      "cell_type": "code",
      "source": [
        "ranks = [\"obscurus\", \"initiate\", \"seeker\", \"alchemist\", \"arcanist\", \"ritualist\", \"emissary\", \"archon\", \"oracle\", \"phantom\", \"ascendant\", \"eternus\"]\n",
        "#            0           1          2           3           4           5            6          7         8          9          10           11\n",
        "\n",
        "match_history_endpoint = f'https://data.deadlock-api.com/v2/players/*/match-history' #\n",
        "match_stats_endpoint = f'https://data.deadlock-api.com/v1/matches/*/metadata'        # 10req/min & 100req/h. 100req/s with API key\n",
        "rank_badges_endpoint = 'https://assets.deadlock-api.com/v2/ranks?language=english'   #\n",
        "\n",
        "games_data = {\n",
        "    # rank_id: [wins, losses]\n",
        "    8: [0, 0],\n",
        "    9: [0, 0],\n",
        "    10: [0, 0],\n",
        "    11: [0, 0]\n",
        "}"
      ],
      "metadata": {
        "id": "YtGl3od-o-SB"
      },
      "execution_count": 14,
      "outputs": []
    },
    {
      "cell_type": "markdown",
      "source": [
        "## Functions"
      ],
      "metadata": {
        "id": "Paq9gN_vVgPU"
      }
    },
    {
      "cell_type": "markdown",
      "source": [
        "### Request functions"
      ],
      "metadata": {
        "id": "VB3c0QvFYw0i"
      }
    },
    {
      "cell_type": "code",
      "source": [
        "def convert_request_to_obj(data: str) -> dict:\n",
        "  obj = json.loads(data)\n",
        "  return obj\n",
        "\n",
        "def get_api_request(api_endpoint: str) -> dict:\n",
        "  req = requests.get(api_endpoint).text\n",
        "  obj = convert_request_to_obj(req)\n",
        "  return obj\n",
        "\n",
        "def get_player_matches_raw(player_id: int) -> dict:\n",
        "  player_matches = get_api_request(match_history_endpoint.replace(\"*\", str(player_id)))\n",
        "  return player_matches\n",
        "\n",
        "def get_match_data(match_id: int) -> dict:\n",
        "  match_data = get_api_request(match_stats_endpoint.replace(\"*\", str(match_id)))\n",
        "  match_data = match_data['match_info']\n",
        "  return match_data"
      ],
      "metadata": {
        "id": "foJSZUnewNFb"
      },
      "execution_count": 5,
      "outputs": []
    },
    {
      "cell_type": "markdown",
      "source": [
        "### Functions for data extraction"
      ],
      "metadata": {
        "id": "LQfj7oKgYzbO"
      }
    },
    {
      "cell_type": "code",
      "source": [
        "def get_player_match_ids(player_matches: dict) -> list: # TODO: Add array return type\n",
        "  matches = [i['match_id'] for i in player_matches['matches']]\n",
        "  return matches\n",
        "\n",
        "def get_matches_count(match_ids) -> int:\n",
        "  match_count = len(match_ids)\n",
        "  return match_count\n",
        "\n",
        "def get_random_match_id(player_matches) -> int:\n",
        "  match_id = random.choice(player_matches)\n",
        "  return match_id\n",
        "\n",
        "def get_team_rank_ids(match_data: dict) -> list:\n",
        "  team0 = match_data['average_badge_team0']\n",
        "  team1 = match_data['average_badge_team1']\n",
        "  return [team0, team1]\n",
        "\n",
        "def get_average_lobby_rank(team_ranks: list) -> int:\n",
        "  # TODO: Implement!\n",
        "  return 0\n",
        "\n",
        "def get_players_team(match_data: dict) -> bool:\n",
        "  for player in match_data['players']:\n",
        "    if player['account_id'] == account_id:\n",
        "      players_team = player['team'][-1]\n",
        "      return players_team\n",
        "\n",
        "def get_team_badge(match_data: dict, team_id: bool) -> int:\n",
        "  if team_id == 0:\n",
        "    return match_data['average_badge_team0']\n",
        "  else:\n",
        "    return match_data['average_badge_team1']\n",
        "\n",
        "def get_team_outcome(match_data: dict, team_id: bool) -> bool:\n",
        "  if team_id != match_data['winning_team'][-1]:\n",
        "    return 0\n",
        "  else:\n",
        "    return 1\n",
        "\n",
        "def get_team_stats(match_data, team_id: bool) -> list:\n",
        "  team_badge = get_team_badge(match_data, team_id)\n",
        "  team_outcome = get_team_outcome(match_data, team_id)\n",
        "  return [team_badge, team_outcome]\n",
        "\n",
        "def get_rank_id(rank_id: int) -> int:\n",
        "  return int(str(rank_id)[:-1])\n",
        "\n",
        "def get_subrank(rank_id: int) -> int:\n",
        "  return int(str(rank_id)[-1])\n",
        "\n",
        "def get_rank_string(rank_id: int) -> str:\n",
        "  rank_name = get_rank_id(rank_id)\n",
        "  rank_number = get_subrank(rank_id)\n",
        "  return f'{ranks[rank_name].title()} {rank_number}'"
      ],
      "metadata": {
        "id": "zRJSs6VxNvuH"
      },
      "execution_count": 6,
      "outputs": []
    },
    {
      "cell_type": "markdown",
      "source": [
        "### Main functions"
      ],
      "metadata": {
        "id": "oioksLDEY2jC"
      }
    },
    {
      "cell_type": "code",
      "source": [
        "# Main functions\n",
        "\n",
        "def main() -> None:\n",
        "  player_match_ids = get_player_match_ids(get_player_matches_raw(account_id))\n",
        "  for i, match_id in enumerate(player_match_ids):\n",
        "    print(f'Parsing match #{i} with ID {match_id}')\n",
        "    match_data = get_match_data(match_id)\n",
        "    players_team_stats = get_team_stats(match_data, get_players_team(match_data))\n",
        "    add_game(players_team_stats)\n",
        "    print(f'Added game with stats: {get_rank_string(players_team_stats[0])} - {\"Lost\" if players_team_stats[1] == 0 else \"Win\"}')\n",
        "    time.sleep(request_delay_sec)\n",
        "  print(analyze_output())\n",
        "\n",
        "def add_game(team_stats: list) -> None:\n",
        "  team_rank_id = get_rank_id(team_stats[0])\n",
        "  team_outcome = team_stats[1]\n",
        "  if team_rank_id in games_data.keys():\n",
        "    rank_stats = games_data[team_rank_id]\n",
        "    if team_outcome == 1:\n",
        "      rank_stats[0] += 1\n",
        "    else:\n",
        "      rank_stats[1] += 1\n",
        "  else:\n",
        "    print(f'There was a game with rank that is not exist in the dict: {team_rank_id} - {get_rank_string(team_stats[0])}')\n",
        "\n",
        "def analyze_output() -> str:\n",
        "  output = ''\n",
        "  for key in games_data.keys():\n",
        "    games_total = games_data[key][0] + games_data[key][1]\n",
        "    rank_string = ranks[key].title()\n",
        "    rank_games = f'{games_data[key][0]} W - {games_data[key][1]} L. {games_total} games total'\n",
        "    rank_winrate = f'WR - {games_total / 100 * games_data[key][0]}%'\n",
        "    rank_string = f'{rank_string} - {rank_games} - {rank_winrate}. '\n",
        "    output += rank_string\n",
        "  return output"
      ],
      "metadata": {
        "id": "C7UxU6icN6yx"
      },
      "execution_count": 7,
      "outputs": []
    },
    {
      "cell_type": "code",
      "source": [
        "main() # LET THE TRUTH UNFOLD"
      ],
      "metadata": {
        "colab": {
          "base_uri": "https://localhost:8080/"
        },
        "id": "731q6IEI2YJZ",
        "outputId": "c068d11e-3d07-4dc8-d438-6083243a134f"
      },
      "execution_count": 8,
      "outputs": [
        {
          "output_type": "stream",
          "name": "stdout",
          "text": [
            "Parsing match #0 with ID 32766477\n",
            "Added game with stats: Phantom 6 - Win\n",
            "Parsing match #1 with ID 32765361\n",
            "Added game with stats: Phantom 1 - Lost\n",
            "Parsing match #2 with ID 32764391\n",
            "Added game with stats: Phantom 2 - Lost\n",
            "Parsing match #3 with ID 32761187\n",
            "Added game with stats: Oracle 5 - Win\n",
            "Parsing match #4 with ID 32760012\n",
            "Added game with stats: Phantom 5 - Lost\n",
            "Parsing match #5 with ID 32759644\n",
            "Added game with stats: Phantom 4 - Win\n",
            "Parsing match #6 with ID 32756190\n",
            "Added game with stats: Ascendant 2 - Win\n",
            "Parsing match #7 with ID 32755463\n",
            "Added game with stats: Oracle 2 - Lost\n",
            "Parsing match #8 with ID 32754692\n",
            "Added game with stats: Oracle 3 - Win\n",
            "Parsing match #9 with ID 32753966\n",
            "Added game with stats: Oracle 3 - Win\n",
            "Parsing match #10 with ID 32722563\n",
            "Added game with stats: Ascendant 4 - Win\n",
            "Parsing match #11 with ID 32721456\n",
            "Added game with stats: Oracle 3 - Lost\n",
            "Parsing match #12 with ID 32720060\n",
            "Added game with stats: Oracle 2 - Win\n",
            "Parsing match #13 with ID 32717743\n",
            "Added game with stats: Oracle 3 - Lost\n",
            "Parsing match #14 with ID 32662140\n",
            "Added game with stats: Phantom 1 - Lost\n",
            "Parsing match #15 with ID 32660543\n",
            "Added game with stats: Phantom 2 - Win\n",
            "Parsing match #16 with ID 32658550\n",
            "Added game with stats: Ascendant 3 - Lost\n",
            "Parsing match #17 with ID 32657634\n",
            "Added game with stats: Ascendant 5 - Win\n",
            "Parsing match #18 with ID 32631626\n",
            "Added game with stats: Ascendant 4 - Win\n",
            "Parsing match #19 with ID 32630934\n",
            "Added game with stats: Oracle 6 - Lost\n",
            "Parsing match #20 with ID 32630763\n",
            "Added game with stats: Phantom 2 - Win\n",
            "Parsing match #21 with ID 32629743\n",
            "Added game with stats: Phantom 1 - Lost\n",
            "Parsing match #22 with ID 32628634\n",
            "Added game with stats: Oracle 6 - Lost\n",
            "Parsing match #23 with ID 32627894\n",
            "Added game with stats: Phantom 1 - Lost\n",
            "Parsing match #24 with ID 32600992\n",
            "Added game with stats: Phantom 2 - Win\n",
            "Parsing match #25 with ID 32599653\n",
            "Added game with stats: Ascendant 3 - Win\n",
            "Parsing match #26 with ID 32598988\n",
            "Added game with stats: Phantom 4 - Lost\n",
            "Parsing match #27 with ID 32598007\n",
            "Added game with stats: Oracle 5 - Win\n",
            "Parsing match #28 with ID 32597261\n",
            "Added game with stats: Oracle 1 - Lost\n",
            "Parsing match #29 with ID 32537785\n",
            "Added game with stats: Oracle 6 - Win\n",
            "Parsing match #30 with ID 32534698\n",
            "Added game with stats: Oracle 4 - Lost\n",
            "Parsing match #31 with ID 32533449\n",
            "Added game with stats: Oracle 5 - Lost\n",
            "Parsing match #32 with ID 32532419\n",
            "Added game with stats: Phantom 6 - Lost\n",
            "Parsing match #33 with ID 32528892\n",
            "Added game with stats: Oracle 4 - Win\n",
            "Parsing match #34 with ID 32527954\n",
            "Added game with stats: Oracle 6 - Lost\n",
            "Parsing match #35 with ID 32526499\n",
            "Added game with stats: Oracle 6 - Lost\n",
            "Parsing match #36 with ID 32492786\n",
            "Added game with stats: Oracle 4 - Lost\n",
            "Parsing match #37 with ID 32491649\n",
            "Added game with stats: Oracle 6 - Lost\n",
            "Parsing match #38 with ID 32490410\n",
            "Added game with stats: Oracle 6 - Win\n",
            "Parsing match #39 with ID 32489591\n",
            "Added game with stats: Phantom 1 - Lost\n",
            "Parsing match #40 with ID 32488733\n",
            "Added game with stats: Ascendant 2 - Win\n",
            "Parsing match #41 with ID 32488512\n",
            "Added game with stats: Phantom 4 - Win\n",
            "Parsing match #42 with ID 32487137\n",
            "Added game with stats: Oracle 4 - Win\n",
            "Parsing match #43 with ID 32486767\n",
            "Added game with stats: Oracle 3 - Lost\n",
            "Parsing match #44 with ID 32485594\n",
            "Added game with stats: Phantom 2 - Win\n",
            "Parsing match #45 with ID 32484907\n",
            "Added game with stats: Oracle 4 - Lost\n",
            "Parsing match #46 with ID 32484018\n",
            "Added game with stats: Oracle 5 - Lost\n",
            "Parsing match #47 with ID 32483445\n",
            "Added game with stats: Oracle 4 - Lost\n",
            "Parsing match #48 with ID 32458962\n",
            "Added game with stats: Oracle 6 - Lost\n",
            "Parsing match #49 with ID 32458363\n",
            "Added game with stats: Phantom 1 - Win\n",
            "Oracle - 9 W - 17 L. 26 games total - WR - 2.34%. Phantom - 8 W - 9 L. 17 games total - WR - 1.36%. Ascendant - 6 W - 1 L. 7 games total - WR - 0.42000000000000004%. Eternus - 0 W - 0 L. 0 games total - WR - 0.0%. \n"
          ]
        }
      ]
    },
    {
      "cell_type": "markdown",
      "source": [
        "...\n",
        "At this point (when I run main() for the first time) I remembered that Valve (or deadlockapi, rather) doesnt have real ranks data. :| Need to click through every game now. Would be pretty slow.\n",
        "\n",
        "Also you can't use `f'Line\\nNew line'` in python 3.11 which is used by colab  "
      ],
      "metadata": {
        "id": "dMdgghDi8KNv"
      }
    },
    {
      "cell_type": "markdown",
      "source": [
        "##Misc code:"
      ],
      "metadata": {
        "id": "64URc2PdYSfU"
      }
    },
    {
      "cell_type": "markdown",
      "source": [
        "### Pretty output"
      ],
      "metadata": {
        "id": "CFT8hicQYayy"
      }
    },
    {
      "cell_type": "code",
      "source": [
        "# For test purposes\n",
        "player_matches = get_player_matches_raw(account_id)\n",
        "player_match_ids = get_player_match_ids(player_matches)\n",
        "player_match_count = get_matches_count(player_match_ids)\n",
        "random_match_id = get_random_match_id(player_match_ids)\n",
        "random_match_data = get_match_data(random_match_id)\n",
        "#teams_ranks = get_lobby_team_rank_ids(random_match_data)\n",
        "players_team = get_players_team(random_match_data)\n",
        "players_team_stats = get_team_stats(random_match_data, players_team)\n",
        "print(f\"\"\"\n",
        "Player with ID {account_id} has {player_match_count} matches available.\n",
        "Picked random match ID: {random_match_id}.\n",
        "Player is in team: {players_team}.\n",
        "Players team stats: {get_rank_string(players_team_stats[0])} - {\"Lost\" if players_team_stats[1] == 0 else \"Win\"}\n",
        "\"\"\")"
      ],
      "metadata": {
        "id": "f7szblkTxlA4"
      },
      "execution_count": null,
      "outputs": []
    },
    {
      "cell_type": "markdown",
      "source": [
        "### Get keys from match data"
      ],
      "metadata": {
        "id": "2t1cOVEIbcLJ"
      }
    },
    {
      "cell_type": "code",
      "source": [
        "random_match_data.keys()"
      ],
      "metadata": {
        "id": "-nVZ6ADfxoyu"
      },
      "execution_count": null,
      "outputs": []
    },
    {
      "cell_type": "code",
      "source": [
        "random_match_data['winning_team']"
      ],
      "metadata": {
        "id": "4MSwrTV3xns4"
      },
      "execution_count": null,
      "outputs": []
    },
    {
      "cell_type": "markdown",
      "source": [
        "###Badges definition"
      ],
      "metadata": {
        "id": "I3QQWUHA294x"
      }
    },
    {
      "cell_type": "code",
      "source": [
        "r = get_api_request(rank_badges_endpoint)\n",
        "r"
      ],
      "metadata": {
        "id": "QmT5AnPIoBXT",
        "colab": {
          "base_uri": "https://localhost:8080/"
        },
        "outputId": "3747f9a3-5a88-4bc2-817c-f1072f7206af"
      },
      "execution_count": 12,
      "outputs": [
        {
          "output_type": "execute_result",
          "data": {
            "text/plain": [
              "[{'tier': 0,\n",
              "  'name': 'Obscurus',\n",
              "  'images': {'large': 'https://assets.deadlock-api.com/images/ranks/rank0/badge_lg.png',\n",
              "   'large_webp': 'https://assets.deadlock-api.com/images/ranks/rank0/badge_lg.webp',\n",
              "   'small': 'https://assets.deadlock-api.com/images/ranks/rank0/badge_sm_psd.png',\n",
              "   'small_webp': 'https://assets.deadlock-api.com/images/ranks/rank0/badge_sm.webp'},\n",
              "  'color': '#333333'},\n",
              " {'tier': 1,\n",
              "  'name': 'Initiate',\n",
              "  'images': {'large': 'https://assets.deadlock-api.com/images/ranks/rank1/badge_lg.png',\n",
              "   'large_webp': 'https://assets.deadlock-api.com/images/ranks/rank1/badge_lg.webp',\n",
              "   'large_subrank1': 'https://assets.deadlock-api.com/images/ranks/rank1/badge_lg_subrank1.png',\n",
              "   'large_subrank1_webp': 'https://assets.deadlock-api.com/images/ranks/rank1/badge_lg_subrank1.webp',\n",
              "   'large_subrank2': 'https://assets.deadlock-api.com/images/ranks/rank1/badge_lg_subrank2.png',\n",
              "   'large_subrank2_webp': 'https://assets.deadlock-api.com/images/ranks/rank1/badge_lg_subrank2.webp',\n",
              "   'large_subrank3': 'https://assets.deadlock-api.com/images/ranks/rank1/badge_lg_subrank3_psd.png',\n",
              "   'large_subrank3_webp': 'https://assets.deadlock-api.com/images/ranks/rank1/badge_lg_subrank3.webp',\n",
              "   'large_subrank4': 'https://assets.deadlock-api.com/images/ranks/rank1/badge_lg_subrank4.png',\n",
              "   'large_subrank4_webp': 'https://assets.deadlock-api.com/images/ranks/rank1/badge_lg_subrank4.webp',\n",
              "   'large_subrank5': 'https://assets.deadlock-api.com/images/ranks/rank1/badge_lg_subrank5_psd.png',\n",
              "   'large_subrank5_webp': 'https://assets.deadlock-api.com/images/ranks/rank1/badge_lg_subrank5.webp',\n",
              "   'large_subrank6': 'https://assets.deadlock-api.com/images/ranks/rank1/badge_lg_subrank6.png',\n",
              "   'large_subrank6_webp': 'https://assets.deadlock-api.com/images/ranks/rank1/badge_lg_subrank6.webp',\n",
              "   'small_subrank1': 'https://assets.deadlock-api.com/images/ranks/rank1/badge_sm_subrank1.png',\n",
              "   'small_subrank1_webp': 'https://assets.deadlock-api.com/images/ranks/rank1/badge_sm_subrank1.webp',\n",
              "   'small_subrank2': 'https://assets.deadlock-api.com/images/ranks/rank1/badge_sm_subrank2_psd.png',\n",
              "   'small_subrank2_webp': 'https://assets.deadlock-api.com/images/ranks/rank1/badge_sm_subrank2.webp',\n",
              "   'small_subrank3': 'https://assets.deadlock-api.com/images/ranks/rank1/badge_sm_subrank3.png',\n",
              "   'small_subrank3_webp': 'https://assets.deadlock-api.com/images/ranks/rank1/badge_sm_subrank3.webp',\n",
              "   'small_subrank4': 'https://assets.deadlock-api.com/images/ranks/rank1/badge_sm_subrank4_psd.png',\n",
              "   'small_subrank4_webp': 'https://assets.deadlock-api.com/images/ranks/rank1/badge_sm_subrank4.webp',\n",
              "   'small_subrank5': 'https://assets.deadlock-api.com/images/ranks/rank1/badge_sm_subrank5_psd.png',\n",
              "   'small_subrank5_webp': 'https://assets.deadlock-api.com/images/ranks/rank1/badge_sm_subrank5.webp',\n",
              "   'small_subrank6': 'https://assets.deadlock-api.com/images/ranks/rank1/badge_sm_subrank6_psd.png',\n",
              "   'small_subrank6_webp': 'https://assets.deadlock-api.com/images/ranks/rank1/badge_sm_subrank6.webp'},\n",
              "  'color': '#CB643B'},\n",
              " {'tier': 2,\n",
              "  'name': 'Seeker',\n",
              "  'images': {'large': 'https://assets.deadlock-api.com/images/ranks/rank2/badge_lg.png',\n",
              "   'large_webp': 'https://assets.deadlock-api.com/images/ranks/rank2/badge_lg.webp',\n",
              "   'large_subrank1': 'https://assets.deadlock-api.com/images/ranks/rank2/badge_lg_subrank1.png',\n",
              "   'large_subrank1_webp': 'https://assets.deadlock-api.com/images/ranks/rank2/badge_lg_subrank1.webp',\n",
              "   'large_subrank2': 'https://assets.deadlock-api.com/images/ranks/rank2/badge_lg_subrank2.png',\n",
              "   'large_subrank2_webp': 'https://assets.deadlock-api.com/images/ranks/rank2/badge_lg_subrank2.webp',\n",
              "   'large_subrank3': 'https://assets.deadlock-api.com/images/ranks/rank2/badge_lg_subrank3_psd.png',\n",
              "   'large_subrank3_webp': 'https://assets.deadlock-api.com/images/ranks/rank2/badge_lg_subrank3.webp',\n",
              "   'large_subrank4': 'https://assets.deadlock-api.com/images/ranks/rank2/badge_lg_subrank4.png',\n",
              "   'large_subrank4_webp': 'https://assets.deadlock-api.com/images/ranks/rank2/badge_lg_subrank4.webp',\n",
              "   'large_subrank5': 'https://assets.deadlock-api.com/images/ranks/rank2/badge_lg_subrank5_psd.png',\n",
              "   'large_subrank5_webp': 'https://assets.deadlock-api.com/images/ranks/rank2/badge_lg_subrank5.webp',\n",
              "   'large_subrank6': 'https://assets.deadlock-api.com/images/ranks/rank2/badge_lg_subrank6.png',\n",
              "   'large_subrank6_webp': 'https://assets.deadlock-api.com/images/ranks/rank2/badge_lg_subrank6.webp',\n",
              "   'small_subrank1': 'https://assets.deadlock-api.com/images/ranks/rank2/badge_sm_subrank1.png',\n",
              "   'small_subrank1_webp': 'https://assets.deadlock-api.com/images/ranks/rank2/badge_sm_subrank1.webp',\n",
              "   'small_subrank2': 'https://assets.deadlock-api.com/images/ranks/rank2/badge_sm_subrank2_psd.png',\n",
              "   'small_subrank2_webp': 'https://assets.deadlock-api.com/images/ranks/rank2/badge_sm_subrank2.webp',\n",
              "   'small_subrank3': 'https://assets.deadlock-api.com/images/ranks/rank2/badge_sm_subrank3.png',\n",
              "   'small_subrank3_webp': 'https://assets.deadlock-api.com/images/ranks/rank2/badge_sm_subrank3.webp',\n",
              "   'small_subrank4': 'https://assets.deadlock-api.com/images/ranks/rank2/badge_sm_subrank4_psd.png',\n",
              "   'small_subrank4_webp': 'https://assets.deadlock-api.com/images/ranks/rank2/badge_sm_subrank4.webp',\n",
              "   'small_subrank5': 'https://assets.deadlock-api.com/images/ranks/rank2/badge_sm_subrank5_psd.png',\n",
              "   'small_subrank5_webp': 'https://assets.deadlock-api.com/images/ranks/rank2/badge_sm_subrank5.webp',\n",
              "   'small_subrank6': 'https://assets.deadlock-api.com/images/ranks/rank2/badge_sm_subrank6_psd.png',\n",
              "   'small_subrank6_webp': 'https://assets.deadlock-api.com/images/ranks/rank2/badge_sm_subrank6.webp'},\n",
              "  'color': '#96C86F'},\n",
              " {'tier': 3,\n",
              "  'name': 'Alchemist',\n",
              "  'images': {'large': 'https://assets.deadlock-api.com/images/ranks/rank3/badge_lg.png',\n",
              "   'large_webp': 'https://assets.deadlock-api.com/images/ranks/rank3/badge_lg.webp',\n",
              "   'large_subrank1': 'https://assets.deadlock-api.com/images/ranks/rank3/badge_lg_subrank1.png',\n",
              "   'large_subrank1_webp': 'https://assets.deadlock-api.com/images/ranks/rank3/badge_lg_subrank1.webp',\n",
              "   'large_subrank2': 'https://assets.deadlock-api.com/images/ranks/rank3/badge_lg_subrank2.png',\n",
              "   'large_subrank2_webp': 'https://assets.deadlock-api.com/images/ranks/rank3/badge_lg_subrank2.webp',\n",
              "   'large_subrank3': 'https://assets.deadlock-api.com/images/ranks/rank3/badge_lg_subrank3_psd.png',\n",
              "   'large_subrank3_webp': 'https://assets.deadlock-api.com/images/ranks/rank3/badge_lg_subrank3.webp',\n",
              "   'large_subrank4': 'https://assets.deadlock-api.com/images/ranks/rank3/badge_lg_subrank4.png',\n",
              "   'large_subrank4_webp': 'https://assets.deadlock-api.com/images/ranks/rank3/badge_lg_subrank4.webp',\n",
              "   'large_subrank5': 'https://assets.deadlock-api.com/images/ranks/rank3/badge_lg_subrank5_psd.png',\n",
              "   'large_subrank5_webp': 'https://assets.deadlock-api.com/images/ranks/rank3/badge_lg_subrank5.webp',\n",
              "   'large_subrank6': 'https://assets.deadlock-api.com/images/ranks/rank3/badge_lg_subrank6.png',\n",
              "   'large_subrank6_webp': 'https://assets.deadlock-api.com/images/ranks/rank3/badge_lg_subrank6.webp',\n",
              "   'small_subrank1': 'https://assets.deadlock-api.com/images/ranks/rank3/badge_sm_subrank1.png',\n",
              "   'small_subrank1_webp': 'https://assets.deadlock-api.com/images/ranks/rank3/badge_sm_subrank1.webp',\n",
              "   'small_subrank2': 'https://assets.deadlock-api.com/images/ranks/rank3/badge_sm_subrank2_psd.png',\n",
              "   'small_subrank2_webp': 'https://assets.deadlock-api.com/images/ranks/rank3/badge_sm_subrank2.webp',\n",
              "   'small_subrank3': 'https://assets.deadlock-api.com/images/ranks/rank3/badge_sm_subrank3.png',\n",
              "   'small_subrank3_webp': 'https://assets.deadlock-api.com/images/ranks/rank3/badge_sm_subrank3.webp',\n",
              "   'small_subrank4': 'https://assets.deadlock-api.com/images/ranks/rank3/badge_sm_subrank4_psd.png',\n",
              "   'small_subrank4_webp': 'https://assets.deadlock-api.com/images/ranks/rank3/badge_sm_subrank4.webp',\n",
              "   'small_subrank5': 'https://assets.deadlock-api.com/images/ranks/rank3/badge_sm_subrank5_psd.png',\n",
              "   'small_subrank5_webp': 'https://assets.deadlock-api.com/images/ranks/rank3/badge_sm_subrank5.webp',\n",
              "   'small_subrank6': 'https://assets.deadlock-api.com/images/ranks/rank3/badge_sm_subrank6_psd.png',\n",
              "   'small_subrank6_webp': 'https://assets.deadlock-api.com/images/ranks/rank3/badge_sm_subrank6.webp'},\n",
              "  'color': '#66AEBC'},\n",
              " {'tier': 4,\n",
              "  'name': 'Arcanist',\n",
              "  'images': {'large': 'https://assets.deadlock-api.com/images/ranks/rank4/badge_lg.png',\n",
              "   'large_webp': 'https://assets.deadlock-api.com/images/ranks/rank4/badge_lg.webp',\n",
              "   'large_subrank1': 'https://assets.deadlock-api.com/images/ranks/rank4/badge_lg_subrank1.png',\n",
              "   'large_subrank1_webp': 'https://assets.deadlock-api.com/images/ranks/rank4/badge_lg_subrank1.webp',\n",
              "   'large_subrank2': 'https://assets.deadlock-api.com/images/ranks/rank4/badge_lg_subrank2.png',\n",
              "   'large_subrank2_webp': 'https://assets.deadlock-api.com/images/ranks/rank4/badge_lg_subrank2.webp',\n",
              "   'large_subrank3': 'https://assets.deadlock-api.com/images/ranks/rank4/badge_lg_subrank3_psd.png',\n",
              "   'large_subrank3_webp': 'https://assets.deadlock-api.com/images/ranks/rank4/badge_lg_subrank3.webp',\n",
              "   'large_subrank4': 'https://assets.deadlock-api.com/images/ranks/rank4/badge_lg_subrank4.png',\n",
              "   'large_subrank4_webp': 'https://assets.deadlock-api.com/images/ranks/rank4/badge_lg_subrank4.webp',\n",
              "   'large_subrank5': 'https://assets.deadlock-api.com/images/ranks/rank4/badge_lg_subrank5_psd.png',\n",
              "   'large_subrank5_webp': 'https://assets.deadlock-api.com/images/ranks/rank4/badge_lg_subrank5.webp',\n",
              "   'large_subrank6': 'https://assets.deadlock-api.com/images/ranks/rank4/badge_lg_subrank6.png',\n",
              "   'large_subrank6_webp': 'https://assets.deadlock-api.com/images/ranks/rank4/badge_lg_subrank6.webp',\n",
              "   'small_subrank1': 'https://assets.deadlock-api.com/images/ranks/rank4/badge_sm_subrank1.png',\n",
              "   'small_subrank1_webp': 'https://assets.deadlock-api.com/images/ranks/rank4/badge_sm_subrank1.webp',\n",
              "   'small_subrank2': 'https://assets.deadlock-api.com/images/ranks/rank4/badge_sm_subrank2_psd.png',\n",
              "   'small_subrank2_webp': 'https://assets.deadlock-api.com/images/ranks/rank4/badge_sm_subrank2.webp',\n",
              "   'small_subrank3': 'https://assets.deadlock-api.com/images/ranks/rank4/badge_sm_subrank3.png',\n",
              "   'small_subrank3_webp': 'https://assets.deadlock-api.com/images/ranks/rank4/badge_sm_subrank3.webp',\n",
              "   'small_subrank4': 'https://assets.deadlock-api.com/images/ranks/rank4/badge_sm_subrank4_psd.png',\n",
              "   'small_subrank4_webp': 'https://assets.deadlock-api.com/images/ranks/rank4/badge_sm_subrank4.webp',\n",
              "   'small_subrank5': 'https://assets.deadlock-api.com/images/ranks/rank4/badge_sm_subrank5_psd.png',\n",
              "   'small_subrank5_webp': 'https://assets.deadlock-api.com/images/ranks/rank4/badge_sm_subrank5.webp',\n",
              "   'small_subrank6': 'https://assets.deadlock-api.com/images/ranks/rank4/badge_sm_subrank6_psd.png',\n",
              "   'small_subrank6_webp': 'https://assets.deadlock-api.com/images/ranks/rank4/badge_sm_subrank6.webp'},\n",
              "  'color': '#C15F78'},\n",
              " {'tier': 5,\n",
              "  'name': 'Ritualist',\n",
              "  'images': {'large': 'https://assets.deadlock-api.com/images/ranks/rank5/badge_lg.png',\n",
              "   'large_webp': 'https://assets.deadlock-api.com/images/ranks/rank5/badge_lg.webp',\n",
              "   'large_subrank1': 'https://assets.deadlock-api.com/images/ranks/rank5/badge_lg_subrank1.png',\n",
              "   'large_subrank1_webp': 'https://assets.deadlock-api.com/images/ranks/rank5/badge_lg_subrank1.webp',\n",
              "   'large_subrank2': 'https://assets.deadlock-api.com/images/ranks/rank5/badge_lg_subrank2.png',\n",
              "   'large_subrank2_webp': 'https://assets.deadlock-api.com/images/ranks/rank5/badge_lg_subrank2.webp',\n",
              "   'large_subrank3': 'https://assets.deadlock-api.com/images/ranks/rank5/badge_lg_subrank3_psd.png',\n",
              "   'large_subrank3_webp': 'https://assets.deadlock-api.com/images/ranks/rank5/badge_lg_subrank3.webp',\n",
              "   'large_subrank4': 'https://assets.deadlock-api.com/images/ranks/rank5/badge_lg_subrank4.png',\n",
              "   'large_subrank4_webp': 'https://assets.deadlock-api.com/images/ranks/rank5/badge_lg_subrank4.webp',\n",
              "   'large_subrank5': 'https://assets.deadlock-api.com/images/ranks/rank5/badge_lg_subrank5_psd.png',\n",
              "   'large_subrank5_webp': 'https://assets.deadlock-api.com/images/ranks/rank5/badge_lg_subrank5.webp',\n",
              "   'large_subrank6': 'https://assets.deadlock-api.com/images/ranks/rank5/badge_lg_subrank6.png',\n",
              "   'large_subrank6_webp': 'https://assets.deadlock-api.com/images/ranks/rank5/badge_lg_subrank6.webp',\n",
              "   'small_subrank1': 'https://assets.deadlock-api.com/images/ranks/rank5/badge_sm_subrank1.png',\n",
              "   'small_subrank1_webp': 'https://assets.deadlock-api.com/images/ranks/rank5/badge_sm_subrank1.webp',\n",
              "   'small_subrank2': 'https://assets.deadlock-api.com/images/ranks/rank5/badge_sm_subrank2_psd.png',\n",
              "   'small_subrank2_webp': 'https://assets.deadlock-api.com/images/ranks/rank5/badge_sm_subrank2.webp',\n",
              "   'small_subrank3': 'https://assets.deadlock-api.com/images/ranks/rank5/badge_sm_subrank3.png',\n",
              "   'small_subrank3_webp': 'https://assets.deadlock-api.com/images/ranks/rank5/badge_sm_subrank3.webp',\n",
              "   'small_subrank4': 'https://assets.deadlock-api.com/images/ranks/rank5/badge_sm_subrank4_psd.png',\n",
              "   'small_subrank4_webp': 'https://assets.deadlock-api.com/images/ranks/rank5/badge_sm_subrank4.webp',\n",
              "   'small_subrank5': 'https://assets.deadlock-api.com/images/ranks/rank5/badge_sm_subrank5_psd.png',\n",
              "   'small_subrank5_webp': 'https://assets.deadlock-api.com/images/ranks/rank5/badge_sm_subrank5.webp',\n",
              "   'small_subrank6': 'https://assets.deadlock-api.com/images/ranks/rank5/badge_sm_subrank6_psd.png',\n",
              "   'small_subrank6_webp': 'https://assets.deadlock-api.com/images/ranks/rank5/badge_sm_subrank6.webp'},\n",
              "  'color': '#705B9C'},\n",
              " {'tier': 6,\n",
              "  'name': 'Emissary',\n",
              "  'images': {'large': 'https://assets.deadlock-api.com/images/ranks/rank6/badge_lg.png',\n",
              "   'large_webp': 'https://assets.deadlock-api.com/images/ranks/rank6/badge_lg.webp',\n",
              "   'large_subrank1': 'https://assets.deadlock-api.com/images/ranks/rank6/badge_lg_subrank1.png',\n",
              "   'large_subrank1_webp': 'https://assets.deadlock-api.com/images/ranks/rank6/badge_lg_subrank1.webp',\n",
              "   'large_subrank2': 'https://assets.deadlock-api.com/images/ranks/rank6/badge_lg_subrank2.png',\n",
              "   'large_subrank2_webp': 'https://assets.deadlock-api.com/images/ranks/rank6/badge_lg_subrank2.webp',\n",
              "   'large_subrank3': 'https://assets.deadlock-api.com/images/ranks/rank6/badge_lg_subrank3_psd.png',\n",
              "   'large_subrank3_webp': 'https://assets.deadlock-api.com/images/ranks/rank6/badge_lg_subrank3.webp',\n",
              "   'large_subrank4': 'https://assets.deadlock-api.com/images/ranks/rank6/badge_lg_subrank4.png',\n",
              "   'large_subrank4_webp': 'https://assets.deadlock-api.com/images/ranks/rank6/badge_lg_subrank4.webp',\n",
              "   'large_subrank5': 'https://assets.deadlock-api.com/images/ranks/rank6/badge_lg_subrank5_psd.png',\n",
              "   'large_subrank5_webp': 'https://assets.deadlock-api.com/images/ranks/rank6/badge_lg_subrank5.webp',\n",
              "   'large_subrank6': 'https://assets.deadlock-api.com/images/ranks/rank6/badge_lg_subrank6.png',\n",
              "   'large_subrank6_webp': 'https://assets.deadlock-api.com/images/ranks/rank6/badge_lg_subrank6.webp',\n",
              "   'small_subrank1': 'https://assets.deadlock-api.com/images/ranks/rank6/badge_sm_subrank1.png',\n",
              "   'small_subrank1_webp': 'https://assets.deadlock-api.com/images/ranks/rank6/badge_sm_subrank1.webp',\n",
              "   'small_subrank2': 'https://assets.deadlock-api.com/images/ranks/rank6/badge_sm_subrank2_psd.png',\n",
              "   'small_subrank2_webp': 'https://assets.deadlock-api.com/images/ranks/rank6/badge_sm_subrank2.webp',\n",
              "   'small_subrank3': 'https://assets.deadlock-api.com/images/ranks/rank6/badge_sm_subrank3.png',\n",
              "   'small_subrank3_webp': 'https://assets.deadlock-api.com/images/ranks/rank6/badge_sm_subrank3.webp',\n",
              "   'small_subrank4': 'https://assets.deadlock-api.com/images/ranks/rank6/badge_sm_subrank4_psd.png',\n",
              "   'small_subrank4_webp': 'https://assets.deadlock-api.com/images/ranks/rank6/badge_sm_subrank4.webp',\n",
              "   'small_subrank5': 'https://assets.deadlock-api.com/images/ranks/rank6/badge_sm_subrank5_psd.png',\n",
              "   'small_subrank5_webp': 'https://assets.deadlock-api.com/images/ranks/rank6/badge_sm_subrank5.webp',\n",
              "   'small_subrank6': 'https://assets.deadlock-api.com/images/ranks/rank6/badge_sm_subrank6_psd.png',\n",
              "   'small_subrank6_webp': 'https://assets.deadlock-api.com/images/ranks/rank6/badge_sm_subrank6.webp'},\n",
              "  'color': '#D7644F'},\n",
              " {'tier': 7,\n",
              "  'name': 'Archon',\n",
              "  'images': {'large': 'https://assets.deadlock-api.com/images/ranks/rank7/badge_lg.png',\n",
              "   'large_webp': 'https://assets.deadlock-api.com/images/ranks/rank7/badge_lg.webp',\n",
              "   'large_subrank1': 'https://assets.deadlock-api.com/images/ranks/rank7/badge_lg_subrank1.png',\n",
              "   'large_subrank1_webp': 'https://assets.deadlock-api.com/images/ranks/rank7/badge_lg_subrank1.webp',\n",
              "   'large_subrank2': 'https://assets.deadlock-api.com/images/ranks/rank7/badge_lg_subrank2.png',\n",
              "   'large_subrank2_webp': 'https://assets.deadlock-api.com/images/ranks/rank7/badge_lg_subrank2.webp',\n",
              "   'large_subrank3': 'https://assets.deadlock-api.com/images/ranks/rank7/badge_lg_subrank3_psd.png',\n",
              "   'large_subrank3_webp': 'https://assets.deadlock-api.com/images/ranks/rank7/badge_lg_subrank3.webp',\n",
              "   'large_subrank4': 'https://assets.deadlock-api.com/images/ranks/rank7/badge_lg_subrank4.png',\n",
              "   'large_subrank4_webp': 'https://assets.deadlock-api.com/images/ranks/rank7/badge_lg_subrank4.webp',\n",
              "   'large_subrank5': 'https://assets.deadlock-api.com/images/ranks/rank7/badge_lg_subrank5_psd.png',\n",
              "   'large_subrank5_webp': 'https://assets.deadlock-api.com/images/ranks/rank7/badge_lg_subrank5.webp',\n",
              "   'large_subrank6': 'https://assets.deadlock-api.com/images/ranks/rank7/badge_lg_subrank6.png',\n",
              "   'large_subrank6_webp': 'https://assets.deadlock-api.com/images/ranks/rank7/badge_lg_subrank6.webp',\n",
              "   'small_subrank1': 'https://assets.deadlock-api.com/images/ranks/rank7/badge_sm_subrank1.png',\n",
              "   'small_subrank1_webp': 'https://assets.deadlock-api.com/images/ranks/rank7/badge_sm_subrank1.webp',\n",
              "   'small_subrank2': 'https://assets.deadlock-api.com/images/ranks/rank7/badge_sm_subrank2_psd.png',\n",
              "   'small_subrank2_webp': 'https://assets.deadlock-api.com/images/ranks/rank7/badge_sm_subrank2.webp',\n",
              "   'small_subrank3': 'https://assets.deadlock-api.com/images/ranks/rank7/badge_sm_subrank3.png',\n",
              "   'small_subrank3_webp': 'https://assets.deadlock-api.com/images/ranks/rank7/badge_sm_subrank3.webp',\n",
              "   'small_subrank4': 'https://assets.deadlock-api.com/images/ranks/rank7/badge_sm_subrank4_psd.png',\n",
              "   'small_subrank4_webp': 'https://assets.deadlock-api.com/images/ranks/rank7/badge_sm_subrank4.webp',\n",
              "   'small_subrank5': 'https://assets.deadlock-api.com/images/ranks/rank7/badge_sm_subrank5_psd.png',\n",
              "   'small_subrank5_webp': 'https://assets.deadlock-api.com/images/ranks/rank7/badge_sm_subrank5.webp',\n",
              "   'small_subrank6': 'https://assets.deadlock-api.com/images/ranks/rank7/badge_sm_subrank6_psd.png',\n",
              "   'small_subrank6_webp': 'https://assets.deadlock-api.com/images/ranks/rank7/badge_sm_subrank6.webp'},\n",
              "  'color': '#7DD1BA'},\n",
              " {'tier': 8,\n",
              "  'name': 'Oracle',\n",
              "  'images': {'large': 'https://assets.deadlock-api.com/images/ranks/rank8/badge_lg.png',\n",
              "   'large_webp': 'https://assets.deadlock-api.com/images/ranks/rank8/badge_lg.webp',\n",
              "   'large_subrank1': 'https://assets.deadlock-api.com/images/ranks/rank8/badge_lg_subrank1.png',\n",
              "   'large_subrank1_webp': 'https://assets.deadlock-api.com/images/ranks/rank8/badge_lg_subrank1.webp',\n",
              "   'large_subrank2': 'https://assets.deadlock-api.com/images/ranks/rank8/badge_lg_subrank2.png',\n",
              "   'large_subrank2_webp': 'https://assets.deadlock-api.com/images/ranks/rank8/badge_lg_subrank2.webp',\n",
              "   'large_subrank3': 'https://assets.deadlock-api.com/images/ranks/rank8/badge_lg_subrank3_psd.png',\n",
              "   'large_subrank3_webp': 'https://assets.deadlock-api.com/images/ranks/rank8/badge_lg_subrank3.webp',\n",
              "   'large_subrank4': 'https://assets.deadlock-api.com/images/ranks/rank8/badge_lg_subrank4.png',\n",
              "   'large_subrank4_webp': 'https://assets.deadlock-api.com/images/ranks/rank8/badge_lg_subrank4.webp',\n",
              "   'large_subrank5': 'https://assets.deadlock-api.com/images/ranks/rank8/badge_lg_subrank5_psd.png',\n",
              "   'large_subrank5_webp': 'https://assets.deadlock-api.com/images/ranks/rank8/badge_lg_subrank5.webp',\n",
              "   'large_subrank6': 'https://assets.deadlock-api.com/images/ranks/rank8/badge_lg_subrank6.png',\n",
              "   'large_subrank6_webp': 'https://assets.deadlock-api.com/images/ranks/rank8/badge_lg_subrank6.webp',\n",
              "   'small_subrank1': 'https://assets.deadlock-api.com/images/ranks/rank8/badge_sm_subrank1.png',\n",
              "   'small_subrank1_webp': 'https://assets.deadlock-api.com/images/ranks/rank8/badge_sm_subrank1.webp',\n",
              "   'small_subrank2': 'https://assets.deadlock-api.com/images/ranks/rank8/badge_sm_subrank2_psd.png',\n",
              "   'small_subrank2_webp': 'https://assets.deadlock-api.com/images/ranks/rank8/badge_sm_subrank2.webp',\n",
              "   'small_subrank3': 'https://assets.deadlock-api.com/images/ranks/rank8/badge_sm_subrank3.png',\n",
              "   'small_subrank3_webp': 'https://assets.deadlock-api.com/images/ranks/rank8/badge_sm_subrank3.webp',\n",
              "   'small_subrank4': 'https://assets.deadlock-api.com/images/ranks/rank8/badge_sm_subrank4_psd.png',\n",
              "   'small_subrank4_webp': 'https://assets.deadlock-api.com/images/ranks/rank8/badge_sm_subrank4.webp',\n",
              "   'small_subrank5': 'https://assets.deadlock-api.com/images/ranks/rank8/badge_sm_subrank5_psd.png',\n",
              "   'small_subrank5_webp': 'https://assets.deadlock-api.com/images/ranks/rank8/badge_sm_subrank5.webp',\n",
              "   'small_subrank6': 'https://assets.deadlock-api.com/images/ranks/rank8/badge_sm_subrank6_psd.png',\n",
              "   'small_subrank6_webp': 'https://assets.deadlock-api.com/images/ranks/rank8/badge_sm_subrank6.webp'},\n",
              "  'color': '#E75CC0'},\n",
              " {'tier': 9,\n",
              "  'name': 'Phantom',\n",
              "  'images': {'large': 'https://assets.deadlock-api.com/images/ranks/rank9/badge_lg.png',\n",
              "   'large_webp': 'https://assets.deadlock-api.com/images/ranks/rank9/badge_lg.webp',\n",
              "   'large_subrank1': 'https://assets.deadlock-api.com/images/ranks/rank9/badge_lg_subrank1.png',\n",
              "   'large_subrank1_webp': 'https://assets.deadlock-api.com/images/ranks/rank9/badge_lg_subrank1.webp',\n",
              "   'large_subrank2': 'https://assets.deadlock-api.com/images/ranks/rank9/badge_lg_subrank2.png',\n",
              "   'large_subrank2_webp': 'https://assets.deadlock-api.com/images/ranks/rank9/badge_lg_subrank2.webp',\n",
              "   'large_subrank3': 'https://assets.deadlock-api.com/images/ranks/rank9/badge_lg_subrank3_psd.png',\n",
              "   'large_subrank3_webp': 'https://assets.deadlock-api.com/images/ranks/rank9/badge_lg_subrank3.webp',\n",
              "   'large_subrank4': 'https://assets.deadlock-api.com/images/ranks/rank9/badge_lg_subrank4.png',\n",
              "   'large_subrank4_webp': 'https://assets.deadlock-api.com/images/ranks/rank9/badge_lg_subrank4.webp',\n",
              "   'large_subrank5': 'https://assets.deadlock-api.com/images/ranks/rank9/badge_lg_subrank5_psd.png',\n",
              "   'large_subrank5_webp': 'https://assets.deadlock-api.com/images/ranks/rank9/badge_lg_subrank5.webp',\n",
              "   'large_subrank6': 'https://assets.deadlock-api.com/images/ranks/rank9/badge_lg_subrank6.png',\n",
              "   'large_subrank6_webp': 'https://assets.deadlock-api.com/images/ranks/rank9/badge_lg_subrank6.webp',\n",
              "   'small_subrank1': 'https://assets.deadlock-api.com/images/ranks/rank9/badge_sm_subrank1.png',\n",
              "   'small_subrank1_webp': 'https://assets.deadlock-api.com/images/ranks/rank9/badge_sm_subrank1.webp',\n",
              "   'small_subrank2': 'https://assets.deadlock-api.com/images/ranks/rank9/badge_sm_subrank2_psd.png',\n",
              "   'small_subrank2_webp': 'https://assets.deadlock-api.com/images/ranks/rank9/badge_sm_subrank2.webp',\n",
              "   'small_subrank3': 'https://assets.deadlock-api.com/images/ranks/rank9/badge_sm_subrank3.png',\n",
              "   'small_subrank3_webp': 'https://assets.deadlock-api.com/images/ranks/rank9/badge_sm_subrank3.webp',\n",
              "   'small_subrank4': 'https://assets.deadlock-api.com/images/ranks/rank9/badge_sm_subrank4_psd.png',\n",
              "   'small_subrank4_webp': 'https://assets.deadlock-api.com/images/ranks/rank9/badge_sm_subrank4.webp',\n",
              "   'small_subrank5': 'https://assets.deadlock-api.com/images/ranks/rank9/badge_sm_subrank5_psd.png',\n",
              "   'small_subrank5_webp': 'https://assets.deadlock-api.com/images/ranks/rank9/badge_sm_subrank5.webp',\n",
              "   'small_subrank6': 'https://assets.deadlock-api.com/images/ranks/rank9/badge_sm_subrank6_psd.png',\n",
              "   'small_subrank6_webp': 'https://assets.deadlock-api.com/images/ranks/rank9/badge_sm_subrank6.webp'},\n",
              "  'color': '#B37134'},\n",
              " {'tier': 10,\n",
              "  'name': 'Ascendant',\n",
              "  'images': {'large': 'https://assets.deadlock-api.com/images/ranks/rank10/badge_lg.png',\n",
              "   'large_webp': 'https://assets.deadlock-api.com/images/ranks/rank10/badge_lg.webp',\n",
              "   'large_subrank1': 'https://assets.deadlock-api.com/images/ranks/rank10/badge_lg_subrank1.png',\n",
              "   'large_subrank1_webp': 'https://assets.deadlock-api.com/images/ranks/rank10/badge_lg_subrank1.webp',\n",
              "   'large_subrank2': 'https://assets.deadlock-api.com/images/ranks/rank10/badge_lg_subrank2.png',\n",
              "   'large_subrank2_webp': 'https://assets.deadlock-api.com/images/ranks/rank10/badge_lg_subrank2.webp',\n",
              "   'large_subrank3': 'https://assets.deadlock-api.com/images/ranks/rank10/badge_lg_subrank3_psd.png',\n",
              "   'large_subrank3_webp': 'https://assets.deadlock-api.com/images/ranks/rank10/badge_lg_subrank3.webp',\n",
              "   'large_subrank4': 'https://assets.deadlock-api.com/images/ranks/rank10/badge_lg_subrank4.png',\n",
              "   'large_subrank4_webp': 'https://assets.deadlock-api.com/images/ranks/rank10/badge_lg_subrank4.webp',\n",
              "   'large_subrank5': 'https://assets.deadlock-api.com/images/ranks/rank10/badge_lg_subrank5_psd.png',\n",
              "   'large_subrank5_webp': 'https://assets.deadlock-api.com/images/ranks/rank10/badge_lg_subrank5.webp',\n",
              "   'large_subrank6': 'https://assets.deadlock-api.com/images/ranks/rank10/badge_lg_subrank6.png',\n",
              "   'large_subrank6_webp': 'https://assets.deadlock-api.com/images/ranks/rank10/badge_lg_subrank6.webp',\n",
              "   'small_subrank1': 'https://assets.deadlock-api.com/images/ranks/rank10/badge_sm_subrank1.png',\n",
              "   'small_subrank1_webp': 'https://assets.deadlock-api.com/images/ranks/rank10/badge_sm_subrank1.webp',\n",
              "   'small_subrank2': 'https://assets.deadlock-api.com/images/ranks/rank10/badge_sm_subrank2_psd.png',\n",
              "   'small_subrank2_webp': 'https://assets.deadlock-api.com/images/ranks/rank10/badge_sm_subrank2.webp',\n",
              "   'small_subrank3': 'https://assets.deadlock-api.com/images/ranks/rank10/badge_sm_subrank3.png',\n",
              "   'small_subrank3_webp': 'https://assets.deadlock-api.com/images/ranks/rank10/badge_sm_subrank3.webp',\n",
              "   'small_subrank4': 'https://assets.deadlock-api.com/images/ranks/rank10/badge_sm_subrank4_psd.png',\n",
              "   'small_subrank4_webp': 'https://assets.deadlock-api.com/images/ranks/rank10/badge_sm_subrank4.webp',\n",
              "   'small_subrank5': 'https://assets.deadlock-api.com/images/ranks/rank10/badge_sm_subrank5_psd.png',\n",
              "   'small_subrank5_webp': 'https://assets.deadlock-api.com/images/ranks/rank10/badge_sm_subrank5.webp',\n",
              "   'small_subrank6': 'https://assets.deadlock-api.com/images/ranks/rank10/badge_sm_subrank6_psd.png',\n",
              "   'small_subrank6_webp': 'https://assets.deadlock-api.com/images/ranks/rank10/badge_sm_subrank6.webp'},\n",
              "  'color': '#A89F96'},\n",
              " {'tier': 11,\n",
              "  'name': 'Eternus',\n",
              "  'images': {'large': 'https://assets.deadlock-api.com/images/ranks/rank11/badge_lg.png',\n",
              "   'large_webp': 'https://assets.deadlock-api.com/images/ranks/rank11/badge_lg.webp',\n",
              "   'large_subrank1': 'https://assets.deadlock-api.com/images/ranks/rank11/badge_lg_subrank1.png',\n",
              "   'large_subrank1_webp': 'https://assets.deadlock-api.com/images/ranks/rank11/badge_lg_subrank1.webp',\n",
              "   'large_subrank2': 'https://assets.deadlock-api.com/images/ranks/rank11/badge_lg_subrank2.png',\n",
              "   'large_subrank2_webp': 'https://assets.deadlock-api.com/images/ranks/rank11/badge_lg_subrank2.webp',\n",
              "   'large_subrank3': 'https://assets.deadlock-api.com/images/ranks/rank11/badge_lg_subrank3_psd.png',\n",
              "   'large_subrank3_webp': 'https://assets.deadlock-api.com/images/ranks/rank11/badge_lg_subrank3.webp',\n",
              "   'large_subrank4': 'https://assets.deadlock-api.com/images/ranks/rank11/badge_lg_subrank4.png',\n",
              "   'large_subrank4_webp': 'https://assets.deadlock-api.com/images/ranks/rank11/badge_lg_subrank4.webp',\n",
              "   'large_subrank5': 'https://assets.deadlock-api.com/images/ranks/rank11/badge_lg_subrank5_psd.png',\n",
              "   'large_subrank5_webp': 'https://assets.deadlock-api.com/images/ranks/rank11/badge_lg_subrank5.webp',\n",
              "   'large_subrank6': 'https://assets.deadlock-api.com/images/ranks/rank11/badge_lg_subrank6.png',\n",
              "   'large_subrank6_webp': 'https://assets.deadlock-api.com/images/ranks/rank11/badge_lg_subrank6.webp',\n",
              "   'small_subrank1': 'https://assets.deadlock-api.com/images/ranks/rank11/badge_sm_subrank1.png',\n",
              "   'small_subrank1_webp': 'https://assets.deadlock-api.com/images/ranks/rank11/badge_sm_subrank1.webp',\n",
              "   'small_subrank2': 'https://assets.deadlock-api.com/images/ranks/rank11/badge_sm_subrank2_psd.png',\n",
              "   'small_subrank2_webp': 'https://assets.deadlock-api.com/images/ranks/rank11/badge_sm_subrank2.webp',\n",
              "   'small_subrank3': 'https://assets.deadlock-api.com/images/ranks/rank11/badge_sm_subrank3.png',\n",
              "   'small_subrank3_webp': 'https://assets.deadlock-api.com/images/ranks/rank11/badge_sm_subrank3.webp',\n",
              "   'small_subrank4': 'https://assets.deadlock-api.com/images/ranks/rank11/badge_sm_subrank4_psd.png',\n",
              "   'small_subrank4_webp': 'https://assets.deadlock-api.com/images/ranks/rank11/badge_sm_subrank4.webp',\n",
              "   'small_subrank5': 'https://assets.deadlock-api.com/images/ranks/rank11/badge_sm_subrank5_psd.png',\n",
              "   'small_subrank5_webp': 'https://assets.deadlock-api.com/images/ranks/rank11/badge_sm_subrank5.webp',\n",
              "   'small_subrank6': 'https://assets.deadlock-api.com/images/ranks/rank11/badge_sm_subrank6_psd.png',\n",
              "   'small_subrank6_webp': 'https://assets.deadlock-api.com/images/ranks/rank11/badge_sm_subrank6.webp'},\n",
              "  'color': '#D9963F'}]"
            ]
          },
          "metadata": {},
          "execution_count": 12
        }
      ]
    }
  ]
}